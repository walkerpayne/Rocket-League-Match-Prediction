{
 "cells": [
  {
   "cell_type": "markdown",
   "metadata": {},
   "source": [
    "The purpose of this script is to scrape match information from Ballchasing.com. "
   ]
  },
  {
   "cell_type": "code",
   "execution_count": null,
   "metadata": {},
   "outputs": [],
   "source": [
    "import json\n",
    "import requests\n",
    "import pandas as pd\n",
    "\n",
    "from datetime import date"
   ]
  },
  {
   "cell_type": "code",
   "execution_count": null,
   "metadata": {},
   "outputs": [],
   "source": [
    "api_token = 'INSERT API TOKEN HERE'\n",
    "api_url_base = 'https://ballchasing.com/api/replays'\n",
    "\n",
    "headers = {'Authorization':api_token}"
   ]
  },
  {
   "cell_type": "markdown",
   "metadata": {},
   "source": [
    "The logic in the below cell is abominable. To paraphrase a meme I saw once:\n",
    "\n",
    "**When I wrote this code, only god and I knew how it worked. Now, after a few days, only he knows.**\n",
    "\n",
    "Most of the ugliness comes from not using variables for each parsed datapoint. I should have declared those variables at the beginning of the loop,\n",
    "\n",
    "e.g. blue_name = data['list'][match]['blue]['players'][0]['name'],\n",
    "\n",
    "but alas, I did not. The rest of the unreadability comes from very basic error handling. \n",
    "\n",
    "I chose to designate player_1 as the uploader, who *must* be a steam user. Player 2 is then the player that does not have a name equal to player 1. This odd logic is due to the fact that the uploader could be either on the blue team *or* the orange team, so they must be compared to identify each player."
   ]
  },
  {
   "cell_type": "code",
   "execution_count": null,
   "metadata": {},
   "outputs": [],
   "source": [
    "url = api_url_base\n",
    "name_key = 'name'\n",
    "dataList = []\n",
    "\n",
    "\n",
    "for page in range(1,200):\n",
    "    \n",
    "    response = requests.get(url, headers={'Authorization':api_token}, params = {'playlist':'ranked-duels','count':'200'})\n",
    "    data = response.json()\n",
    "\n",
    "    for match in range(len(data['list'])):\n",
    "        \n",
    "        if name_key in data['list'][match]['blue']['players'][0] and name_key in data['list'][match]['orange']['players'][0]:\n",
    "            \n",
    "            match_date = data['list'][match]['date']\n",
    "            player1_name = data['list'][match]['uploader']['name']\n",
    "            player1_steam_id = data['list'][match]['uploader']['steam_id']\n",
    "\n",
    "            player2_name = data['list'][match]['blue']['players'][0]['name'] if data['list'][match]['blue']['players'][0]['name'] != player1_name else data['list'][match]['orange']['players'][0]['name']\n",
    "            player2_platform = data['list'][match]['blue']['players'][0]['id']['platform'] if data['list'][match]['blue']['players'][0]['name'] != player1_name else data['list'][match]['orange']['players'][0]['id']['platform']\n",
    "            \n",
    "            if (data['list'][match]['blue']['players'][0]['name'] != player1_name and data['list'][match]['blue']['players'][0]['id']['platform'] == 'steam'):\n",
    "            \n",
    "                player2_steam_id = data['list'][match]['blue']['players'][0]['id']['id']\n",
    "                \n",
    "            elif (data['list'][match]['blue']['players'][0]['name'] == player1_name and data['list'][match]['orange']['players'][0]['id']['platform'] == 'steam'):\n",
    "                \n",
    "                player2_steam_id = data['list'][match]['orange']['players'][0]['id']['id']\n",
    "                \n",
    "            else:\n",
    "                \n",
    "                player2_steam_id = 'null'\n",
    "            \n",
    "            player1_outcome = '0' if 'Loss' in data['list'][match]['replay_title'] else '1' if 'Win' in data['list'][match]['replay_title'] else 'null'\n",
    "\n",
    "            keys = ['match_date','player1_name', 'player1_steam_id','player2_name','player2_platform','player2_steam_id','player1_outcome']\n",
    "            values = [match_date, player1_name, player1_steam_id, player2_name, player2_platform, player2_steam_id, player1_outcome]\n",
    "            dataList.append(dict(zip(keys,values)))\n",
    "            \n",
    "        else:\n",
    "            continue\n",
    "        \n",
    "    url = data['next']"
   ]
  },
  {
   "cell_type": "code",
   "execution_count": null,
   "metadata": {},
   "outputs": [],
   "source": [
    "print(len(dataList))"
   ]
  },
  {
   "cell_type": "code",
   "execution_count": null,
   "metadata": {},
   "outputs": [],
   "source": [
    "today = date.today()\n",
    "date_today = today.strftime(\"%b-%d-%Y\")"
   ]
  },
  {
   "cell_type": "code",
   "execution_count": null,
   "metadata": {},
   "outputs": [],
   "source": [
    "df = pd.DataFrame(dataList)\n",
    "df.to_excel('Ballchasing_data_' + date_today + '.xlsx')"
   ]
  },
  {
   "cell_type": "code",
   "execution_count": null,
   "metadata": {},
   "outputs": [],
   "source": []
  }
 ],
 "metadata": {
  "kernelspec": {
   "display_name": "Python 3",
   "language": "python",
   "name": "python3"
  },
  "language_info": {
   "codemirror_mode": {
    "name": "ipython",
    "version": 3
   },
   "file_extension": ".py",
   "mimetype": "text/x-python",
   "name": "python",
   "nbconvert_exporter": "python",
   "pygments_lexer": "ipython3",
   "version": "3.9.2"
  }
 },
 "nbformat": 4,
 "nbformat_minor": 4
}
